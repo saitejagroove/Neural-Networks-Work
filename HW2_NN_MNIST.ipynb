{
 "cells": [
  {
   "cell_type": "markdown",
   "metadata": {},
   "source": [
    "# Perceptron training algorithm - Sai Teja Karnati"
   ]
  },
  {
   "cell_type": "code",
   "execution_count": 92,
   "metadata": {},
   "outputs": [],
   "source": [
    "import math\n",
    "import matplotlib.pyplot  as plt\n",
    "import random\n",
    "import os\n",
    "import path\n",
    "import struct\n",
    "import gzip\n",
    "import numpy as np"
   ]
  },
  {
   "cell_type": "markdown",
   "metadata": {},
   "source": [
    "Inputing data"
   ]
  },
  {
   "cell_type": "code",
   "execution_count": 93,
   "metadata": {},
   "outputs": [],
   "source": [
    "\n",
    "\n",
    "image_size = 28\n",
    "trainingImagesCount = 60000\n",
    "testingImagesCount = 10000\n",
    "\n",
    "def read_idx(filename):\n",
    "    with open(filename, 'rb') as f:\n",
    "        zero, data_type, dims = struct.unpack('>HBB', f.read(4))\n",
    "        shape = tuple(struct.unpack('>I', f.read(4))[0] for d in range(dims))\n",
    "        return np.frombuffer(f.read(), dtype=np.uint8).reshape(shape)\n",
    "    \n",
    "def read_idx_gz(filename):\n",
    "    with gzip.open(filename, 'rb') as f:\n",
    "        zero, data_type, dims = struct.unpack('>HBB', f.read(4))\n",
    "        shape = tuple(struct.unpack('>I', f.read(4))[0] for d in range(dims))\n",
    "        return np.frombuffer(f.read(), dtype=np.uint8).reshape(shape)\n",
    "\n",
    "    \n",
    "trainingdata = read_idx_gz('train-images-idx3-ubyte.gz')\n",
    "traininglabels = read_idx_gz('train-labels-idx1-ubyte.gz')\n",
    "testingdata = read_idx_gz('t10k-images-idx3-ubyte.gz')\n",
    "testinglabels = read_idx_gz('t10k-labels-idx1-ubyte.gz')"
   ]
  },
  {
   "cell_type": "code",
   "execution_count": null,
   "metadata": {},
   "outputs": [],
   "source": []
  },
  {
   "cell_type": "markdown",
   "metadata": {},
   "source": [
    "Initializing some variables to plot positive and negative points"
   ]
  },
  {
   "cell_type": "code",
   "execution_count": 106,
   "metadata": {},
   "outputs": [],
   "source": [
    "errors=[]\n",
    "predVec=[]\n",
    "n = 1000\n",
    "epoch = 0\n",
    "thres = 0.0\n",
    "alpha = 1.0\n",
    "weights = np.random.uniform(-1, 1, size=(10,784))\n",
    "temp_error=1\n"
   ]
  },
  {
   "cell_type": "markdown",
   "metadata": {},
   "source": []
  },
  {
   "cell_type": "code",
   "execution_count": 97,
   "metadata": {},
   "outputs": [],
   "source": [
    "def stepactivationfn(vec):\n",
    "    ti = 0\n",
    "    ta = np.empty([10,1])\n",
    "    for w in vec:\n",
    "        if w >= 0:\n",
    "            ta[ti] = 1.0\n",
    "        else:\n",
    "            ta[ti] = 0.0\n",
    "        w += 1\n",
    "    return ta"
   ]
  },
  {
   "cell_type": "markdown",
   "metadata": {},
   "source": []
  },
  {
   "cell_type": "code",
   "execution_count": 98,
   "metadata": {},
   "outputs": [],
   "source": [
    "def plot_graph(error):\n",
    "    fig, ax = plt.subplots(figsize=(10,10))\n",
    "    plt.plot(range(len(errors)), errors, c = 'green')\n",
    "    plt.ylabel('Number of Misclassifications')\n",
    "    plt.xlabel('Number of Epochs')\n",
    "    plt.title('Errors vs Epochs')\n",
    "    plt.show()"
   ]
  },
  {
   "cell_type": "markdown",
   "metadata": {},
   "source": [
    "Function to tell us the accuracy of predictions from updated weights compared to the actual weights"
   ]
  },
  {
   "cell_type": "code",
   "execution_count": 99,
   "metadata": {},
   "outputs": [],
   "source": [
    "def errorscal():\n",
    "    e=0\n",
    "    for i in range(len(testingdata)):\n",
    "        xi = testingdata[i]\n",
    "        xi.resize(784, 1)\n",
    "        v = np.matmul(weights ,xi)\n",
    "        prediction = v.argmax(axis=0)\n",
    "        actual = testinglabels[i]\n",
    "        if prediction != actual:\n",
    "            e += 1\n",
    "    print(\"Number of errors in test data: \", e)\n",
    "    print(\"Percentage of test errors: \", e*100/len(testingdata))"
   ]
  },
  {
   "cell_type": "markdown",
   "metadata": {},
   "source": [
    "Q3:i Function to plot graphs for each epoch with updated weights and accuracy along with points and lines"
   ]
  },
  {
   "cell_type": "code",
   "execution_count": 100,
   "metadata": {},
   "outputs": [],
   "source": [
    "def plot_graph(errors):\n",
    "    fig, ax = plt.subplots(figsize=(10,10))\n",
    "    plt.plot(range(len(errors)), errors, c = 'green')\n",
    "    plt.ylabel('Number of Misclassifications')\n",
    "    plt.xlabel('Number of Epochs')\n",
    "    plt.title('Errors vs Epochs')\n",
    "    plt.show()"
   ]
  },
  {
   "cell_type": "markdown",
   "metadata": {},
   "source": [
    "Q4:j - Updating weights using PTA "
   ]
  },
  {
   "cell_type": "code",
   "execution_count": 101,
   "metadata": {},
   "outputs": [],
   "source": [
    "def update_weight(weights):\n",
    "    for i in range(n):\n",
    "        xi = trainingdata[i]\n",
    "        xi.resize(784, 1)\n",
    "        y = np.array(stepactivationfn(np.matmul(weights,xi)))\n",
    "        label = np.zeros((1,10)).T\n",
    "        label[traininglabels[i]] = 1\n",
    "        difference = label - y\n",
    "        xit = np.transpose(xi)\n",
    "        update = alpha * np.matmul(difference, xit)\n",
    "        weights += update"
   ]
  },
  {
   "cell_type": "code",
   "execution_count": 102,
   "metadata": {},
   "outputs": [],
   "source": [
    "def trainingWeights(trainingdata,weights,traininglabels,epoch,alpha,thres):\n",
    "    while epoch<100:\n",
    "        errors.append(0)\n",
    "        errors[epoch] = training_errors(epoch, errors)\n",
    "        update_weight(weights)\n",
    "        epoch += 1\n",
    "        if errors[epoch-1]/n <= thres:\n",
    "            break\n",
    "            \n",
    "        "
   ]
  },
  {
   "cell_type": "code",
   "execution_count": 103,
   "metadata": {},
   "outputs": [],
   "source": [
    "def find_errors():\n",
    "    test_errors = 0\n",
    "    for i in range(len(testingdata)):\n",
    "        xi = testingdata[i]\n",
    "        xi.resize(784, 1)\n",
    "        v = np.matmul(weights ,xi)\n",
    "        prediction = v.argmax(axis=0)\n",
    "        actual = testinglabels[i]\n",
    "        if prediction != actual:\n",
    "            test_errors += 1\n",
    "    print(\"Number of errors in test data: \", test_errors)\n",
    "    print(\"Percentage of test errors: \", test_errors*100/len(testingdata))"
   ]
  },
  {
   "cell_type": "code",
   "execution_count": 104,
   "metadata": {},
   "outputs": [],
   "source": [
    "def training_errors(epoch, errors):\n",
    "    for i in range(n):\n",
    "        xi = trainingdata[i]\n",
    "        xi.resize(784, 1)\n",
    "        v = np.matmul(weights,xi)\n",
    "        prediction = v.argmax(axis=0)\n",
    "        actual = traininglabels[i]\n",
    "        if prediction != actual:\n",
    "            errors[epoch] += 1\n",
    "    return errors[epoch]"
   ]
  },
  {
   "cell_type": "markdown",
   "metadata": {},
   "source": [
    "Finally, calling the training functions, we can change the last two hyperparameters:epochs, learning rate alpha respectively"
   ]
  },
  {
   "cell_type": "code",
   "execution_count": 107,
   "metadata": {},
   "outputs": [
    {
     "name": "stderr",
     "output_type": "stream",
     "text": [
      "D:\\anaconda\\lib\\site-packages\\ipykernel_launcher.py:5: RuntimeWarning: invalid value encountered in greater_equal\n",
      "  \"\"\"\n"
     ]
    },
    {
     "data": {
      "image/png": "[encoded data removed]",
      "text/plain": [
       "<Figure size 720x720 with 1 Axes>"
      ]
     },
     "metadata": {},
     "output_type": "display_data"
    },
    {
     "name": "stdout",
     "output_type": "stream",
     "text": [
      "Number of errors in test data:  8865\n",
      "Percentage of test errors:  88.65\n"
     ]
    }
   ],
   "source": [
    "trainingWeights(trainingdata,weights,traininglabels,epoch,alpha,thres)\n",
    "plot_graph(errors)\n",
    "find_errors()"
   ]
  },
  {
   "cell_type": "code",
   "execution_count": 65,
   "metadata": {},
   "outputs": [
    {
     "data": {
      "text/plain": [
       "1000"
      ]
     },
     "execution_count": 65,
     "metadata": {},
     "output_type": "execute_result"
    }
   ],
   "source": [
    "len(testingdata)"
   ]
  },
  {
   "cell_type": "code",
   "execution_count": 77,
   "metadata": {},
   "outputs": [
    {
     "data": {
      "text/plain": [
       "[47,\n",
       " 43,\n",
       " 46,\n",
       " 43,\n",
       " 46,\n",
       " 43,\n",
       " 46,\n",
       " 43,\n",
       " 46,\n",
       " 43,\n",
       " 46,\n",
       " 43,\n",
       " 46,\n",
       " 43,\n",
       " 46,\n",
       " 43,\n",
       " 46,\n",
       " 43,\n",
       " 46,\n",
       " 43,\n",
       " 46,\n",
       " 43,\n",
       " 46,\n",
       " 43,\n",
       " 46,\n",
       " 43,\n",
       " 46,\n",
       " 43,\n",
       " 46,\n",
       " 43,\n",
       " 46,\n",
       " 43,\n",
       " 46,\n",
       " 43,\n",
       " 46,\n",
       " 43,\n",
       " 46,\n",
       " 43,\n",
       " 46,\n",
       " 43,\n",
       " 46,\n",
       " 43,\n",
       " 46,\n",
       " 43,\n",
       " 46,\n",
       " 43,\n",
       " 46,\n",
       " 43,\n",
       " 46,\n",
       " 43,\n",
       " 43,\n",
       " 43,\n",
       " 43,\n",
       " 43,\n",
       " 43,\n",
       " 43,\n",
       " 43,\n",
       " 43,\n",
       " 43,\n",
       " 43,\n",
       " 43,\n",
       " 43,\n",
       " 43,\n",
       " 43,\n",
       " 43,\n",
       " 43,\n",
       " 43,\n",
       " 43,\n",
       " 43,\n",
       " 43,\n",
       " 43,\n",
       " 43,\n",
       " 43,\n",
       " 43,\n",
       " 43,\n",
       " 43,\n",
       " 43,\n",
       " 43,\n",
       " 43,\n",
       " 43,\n",
       " 43,\n",
       " 43,\n",
       " 43,\n",
       " 43,\n",
       " 43,\n",
       " 43,\n",
       " 43,\n",
       " 43,\n",
       " 43,\n",
       " 43,\n",
       " 43,\n",
       " 43,\n",
       " 43,\n",
       " 43,\n",
       " 43,\n",
       " 43,\n",
       " 43,\n",
       " 43,\n",
       " 43,\n",
       " 43]"
      ]
     },
     "execution_count": 77,
     "metadata": {},
     "output_type": "execute_result"
    }
   ],
   "source": [
    "errors\n"
   ]
  },
  {
   "cell_type": "code",
   "execution_count": null,
   "metadata": {},
   "outputs": [],
   "source": []
  },
  {
   "cell_type": "code",
   "execution_count": null,
   "metadata": {},
   "outputs": [],
   "source": []
  },
  {
   "cell_type": "code",
   "execution_count": null,
   "metadata": {},
   "outputs": [],
   "source": []
  },
  {
   "cell_type": "code",
   "execution_count": null,
   "metadata": {},
   "outputs": [],
   "source": []
  },
  {
   "cell_type": "code",
   "execution_count": null,
   "metadata": {},
   "outputs": [],
   "source": []
  },
  {
   "cell_type": "code",
   "execution_count": null,
   "metadata": {},
   "outputs": [],
   "source": []
  },
  {
   "cell_type": "code",
   "execution_count": null,
   "metadata": {},
   "outputs": [],
   "source": []
  },
  {
   "cell_type": "code",
   "execution_count": null,
   "metadata": {},
   "outputs": [],
   "source": []
  },
  {
   "cell_type": "code",
   "execution_count": null,
   "metadata": {},
   "outputs": [],
   "source": []
  },
  {
   "cell_type": "code",
   "execution_count": null,
   "metadata": {},
   "outputs": [],
   "source": []
  },
  {
   "cell_type": "code",
   "execution_count": null,
   "metadata": {},
   "outputs": [],
   "source": []
  },
  {
   "cell_type": "code",
   "execution_count": null,
   "metadata": {},
   "outputs": [],
   "source": []
  },
  {
   "cell_type": "code",
   "execution_count": null,
   "metadata": {},
   "outputs": [],
   "source": []
  },
  {
   "cell_type": "code",
   "execution_count": null,
   "metadata": {},
   "outputs": [],
   "source": []
  },
  {
   "cell_type": "code",
   "execution_count": null,
   "metadata": {},
   "outputs": [],
   "source": []
  },
  {
   "cell_type": "code",
   "execution_count": null,
   "metadata": {},
   "outputs": [],
   "source": []
  }
 ],
 "metadata": {
  "kernelspec": {
   "display_name": "Python 3",
   "language": "python",
   "name": "python3"
  },
  "language_info": {
   "codemirror_mode": {
    "name": "ipython",
    "version": 3
   },
   "file_extension": ".py",
   "mimetype": "text/x-python",
   "name": "python",
   "nbconvert_exporter": "python",
   "pygments_lexer": "ipython3",
   "version": "3.6.5"
  }
 },
 "nbformat": 4,
 "nbformat_minor": 2
}
