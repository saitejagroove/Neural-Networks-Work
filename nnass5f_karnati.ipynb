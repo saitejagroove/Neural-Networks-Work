{
 "cells": [
  {
   "cell_type": "code",
   "execution_count": 100,
   "metadata": {},
   "outputs": [],
   "source": [
    "#importing the dataset\n",
    "from sklearn.datasets import load_digits, fetch_openml\n",
    "from sklearn.model_selection import train_test_split\n",
    "import numpy as np\n",
    "import matplotlib.pyplot as plt\n",
    "from tqdm import tqdm \n",
    "\n",
    "#fetching training data of 60000 and testing data of 10000\n",
    "#splitting into train,test\n",
    "x,y = fetch_openml('mnist_784', version=1, return_X_y=True)\n",
    "xtrain, xtest, ytrain, ytest = train_test_split(x,y, train_size=60000, test_size=10000, shuffle=False)\n",
    "\n",
    "xtrain = xtrain.astype(np.float)\n",
    "xtest = xtest.astype(np.float)\n",
    "xtrain = xtrain/255\n",
    "xtest = xtest/255\n",
    "\n",
    "#converting output to int \n",
    "ytrain = ytrain.astype(np.int)\n",
    "ytest = ytest.astype(np.int)\n",
    "\n",
    "#we are using one hot encodign for classification\n",
    "ytrain = one_hot_encoding(ytrain)\n",
    "yt = one_hot_encoding(ytest)\n",
    "\n",
    "def one_hot_encoding(output, num_labels=10):\n",
    "  one_h = np.zeros((output.shape[0], num_labels))\n",
    "  for x, y in enumerate(output):\n",
    "    one_h[x,y] = 1.0\n",
    "  return one_h"
   ]
  },
  {
   "cell_type": "code",
   "execution_count": 112,
   "metadata": {},
   "outputs": [],
   "source": [
    "\n",
    "#Activation fn chosen = Sigmoid\n",
    "def sigmoid(z):\n",
    "    s = 1 / (1 + np.exp(-z))\n",
    "    return s\n"
   ]
  },
  {
   "cell_type": "code",
   "execution_count": 113,
   "metadata": {},
   "outputs": [],
   "source": [
    "\n",
    "\n",
    "class mnistq(object):\n",
    "\n",
    "    def __init__(self, num_hidden, epoch=40, alpha=0.01):\n",
    "        self.epoch = epoch \n",
    "        self.alpha = alpha #learning rate\n",
    "        self.input_size = 784 \n",
    "        self.output_size = 10 \n",
    "        self.hidden = num_hidden #neurons in the hidden layer - given below\n",
    "        \n",
    "        print('Initialized with random W')\n",
    "        print('********************')\n",
    "        self.weight1 = np.random.normal(0, 0.2, [self.input_size, self.hidden]) #weights in the first layer between input and hidden\n",
    "        self.bias1 = np.zeros((1, self.hidden)) # bias for weight 1\n",
    "        self.weight2 = np.random.normal(0, 0.2, [self.hidden, self.output_size]) #weights in the second layer between hidden and output\n",
    "        self.bias2 = np.zeros((1, self.output_size))  # bias for weight 2\n",
    "      \n",
    "    #Used to train the network - takes the training input and output, and batch value\n",
    "    def train(self, training_inputs, training_outputs,xtest, yt, batch):\n",
    "      \n",
    "        print('Training with a '+str(batch)+' batch size')\n",
    "        print('********************')   \n",
    "        #momentum value\n",
    "        beta = 0.3\n",
    "        #intializing previous gradients \n",
    "        prev_grad_w2 = 0\n",
    "        prev_grad_w1 = 0\n",
    "        \n",
    "        #for the number of epochs specified\n",
    "        pbar = tqdm(range(self.epoch))\n",
    "        for k in pbar:           \n",
    "            it = 0\n",
    "            avg_error = 0\n",
    "            while it < training_inputs.shape[0]:\n",
    "\n",
    "                #take the batch size of inputs and outputs\n",
    "                tx = training_inputs[it:it+batch]\n",
    "                ty = training_outputs[it:it+batch]\n",
    "\n",
    "                 # Forward propogation\n",
    "                z1 = np.dot(tx, self.weight1) + self.bias1\n",
    "                a1 = sigmoid(z1)\n",
    "                z2 = np.dot(a1, self.weight2) + self.bias2\n",
    "                y = sigmoid(z2)\n",
    "\n",
    "                #Backpropogation and error calculation\n",
    "                dy2 = y*(1-y) #derivative of final output\n",
    "                dy1 = a1*(1-a1) #derivative of hidden layer output\n",
    "                output_error = np.subtract(ty,y) #error in output layer\n",
    "                avg_error += np.mean(output_error)\n",
    "                output_delta = output_error * dy2 #element wise mulitplication\n",
    "                hidden_error = np.dot(output_delta, self.weight2.T)\n",
    "                hidden_layer_delta = hidden_error * dy1 #element wise multiplication\n",
    "\n",
    "                # using momentum, beta set to 0.3\n",
    "                momentum_factor_w1 = beta * prev_grad_w1\n",
    "                momentum_factor_w2 = beta * prev_grad_w2\n",
    "\n",
    "                #Backpropogation calculation of each weight and bias\n",
    "                dW2 = np.dot(a1.T, output_delta) # forward * backward\n",
    "                db2 = np.sum(output_delta, axis = 0, keepdims = True)\n",
    "                dW1 = np.dot(tx.T, hidden_layer_delta)\n",
    "                db1 = np.sum(hidden_layer_delta, axis = 0, keepdims = True)\n",
    "\n",
    "\n",
    "                #update weights and bias\n",
    "                self.weight2 += (1./batch * self.alpha * dW2) + momentum_factor_w2\n",
    "                self.bias2 +=  1./batch * self.alpha * db2\n",
    "                self.weight1 +=  (1./batch * self.alpha * dW1) + momentum_factor_w1 \n",
    "                self.bias1 +=  1./batch * self.alpha * db1\n",
    "\n",
    "                #save the graident to use in next batch iteration\n",
    "                prev_grad_w1 = 1./batch * self.alpha * dW1\n",
    "                prev_grad_w2 = 1./batch * self.alpha * dW2\n",
    "\n",
    "                #input(\"Wait\")\n",
    "\n",
    "                #increment to access next set of inputs\n",
    "                it = it + batch\n",
    "                \n",
    "            avg_error /= float(training_inputs.shape[0])\n",
    "            pbar.set_description(\"Error: %.4f\" %(avg_error))\n",
    "            print(\"Training acc at epoch:\",k)\n",
    "            trainacc = self.test(training_inputs, training_outputs)\n",
    "            print(\"Pred acc at epoch:\",k)\n",
    "            predicacc = self.test(xtest, yt)\n",
    "            prederr.append((1-(predicacc/100)))\n",
    "            trainerr.append(1-(trainacc/100))\n",
    "            \n",
    "            \n",
    "\n",
    "  # accuracy testing - for training and testing\n",
    "    def test(self, test_input, test_output):\n",
    "        \n",
    "        #forward feed\n",
    "        z1 = np.dot(test_input, self.weight1) + self.bias1\n",
    "        a1 = sigmoid(z1)\n",
    "        z2 = np.dot(a1, self.weight2) + self.bias2\n",
    "        y = sigmoid(z2)\n",
    "\n",
    "        a = np.zeros((10000, 1))\n",
    "\n",
    "        # To see how accurate the neural network is compared to the correct values\n",
    "        acc = 0.0\n",
    "        for i in range(10000):\n",
    "            if np.argmax(y[i]) == np.argmax(test_output[i]):\n",
    "                acc += 1\n",
    "                a[i] = np.argmax(y[i])\n",
    "        accper = acc / 10000 * 100\n",
    "        print( accper, \"%\")\n",
    "        return accper\n",
    "    \n"
   ]
  },
  {
   "cell_type": "code",
   "execution_count": 114,
   "metadata": {},
   "outputs": [
    {
     "name": "stdout",
     "output_type": "stream",
     "text": [
      "Initialized with random W\n",
      "********************\n",
      "Training with a 4 batch size\n",
      "********************\n"
     ]
    },
    {
     "name": "stderr",
     "output_type": "stream",
     "text": [
      "\n",
      "\n",
      "\n",
      "  0%|                                                                                           | 0/40 [00:00<?, ?it/s]\n",
      "\n",
      "\n",
      "Error: -0.0066:   0%|                                                                           | 0/40 [00:09<?, ?it/s]"
     ]
    },
    {
     "name": "stdout",
     "output_type": "stream",
     "text": [
      "Training acc at epoch: 0\n",
      "84.78999999999999 %\n",
      "Pred acc at epoch: 0\n",
      "85.77 %\n"
     ]
    },
    {
     "name": "stderr",
     "output_type": "stream",
     "text": [
      "\n",
      "\n",
      "\n",
      "Error: -0.0066:   2%|█▋                                                                 | 1/40 [00:10<06:44, 10.37s/it]\n",
      "\n",
      "\n",
      "Error: -0.0038:   2%|█▋                                                                 | 1/40 [00:19<06:44, 10.37s/it]"
     ]
    },
    {
     "name": "stdout",
     "output_type": "stream",
     "text": [
      "Training acc at epoch: 1\n",
      "87.82 %\n",
      "Pred acc at epoch: 1\n",
      "88.5 %\n"
     ]
    },
    {
     "name": "stderr",
     "output_type": "stream",
     "text": [
      "\n",
      "\n",
      "\n",
      "Error: -0.0038:   5%|███▎                                                               | 2/40 [00:20<06:30, 10.28s/it]\n",
      "\n",
      "\n",
      "Error: -0.0025:   5%|███▎                                                               | 2/40 [00:30<06:30, 10.28s/it]"
     ]
    },
    {
     "name": "stdout",
     "output_type": "stream",
     "text": [
      "Training acc at epoch: 2\n",
      "89.34 %\n",
      "Pred acc at epoch: 2\n",
      "89.69 %\n"
     ]
    },
    {
     "name": "stderr",
     "output_type": "stream",
     "text": [
      "\n",
      "\n",
      "\n",
      "Error: -0.0025:   8%|█████                                                              | 3/40 [00:30<06:20, 10.30s/it]\n",
      "\n",
      "\n",
      "Error: -0.0019:   8%|█████                                                              | 3/40 [00:39<06:20, 10.30s/it]"
     ]
    },
    {
     "name": "stdout",
     "output_type": "stream",
     "text": [
      "Training acc at epoch: 3\n",
      "90.10000000000001 %\n",
      "Pred acc at epoch: 3\n",
      "90.38000000000001 %\n"
     ]
    },
    {
     "name": "stderr",
     "output_type": "stream",
     "text": [
      "\n",
      "\n",
      "\n",
      "Error: -0.0019:  10%|██████▋                                                            | 4/40 [00:40<06:05, 10.14s/it]\n",
      "\n",
      "\n",
      "Error: -0.0016:  10%|██████▋                                                            | 4/40 [00:50<06:05, 10.14s/it]"
     ]
    },
    {
     "name": "stdout",
     "output_type": "stream",
     "text": [
      "Training acc at epoch: 4\n",
      "90.68 %\n",
      "Pred acc at epoch: 4\n",
      "91.0 %\n"
     ]
    },
    {
     "name": "stderr",
     "output_type": "stream",
     "text": [
      "\n",
      "\n",
      "\n",
      "Error: -0.0016:  12%|████████▍                                                          | 5/40 [00:51<06:01, 10.33s/it]\n",
      "\n",
      "\n",
      "Error: -0.0013:  12%|████████▍                                                          | 5/40 [01:02<06:01, 10.33s/it]"
     ]
    },
    {
     "name": "stdout",
     "output_type": "stream",
     "text": [
      "Training acc at epoch: 5\n",
      "91.16 %\n",
      "Pred acc at epoch: 5\n",
      "91.23 %\n"
     ]
    },
    {
     "name": "stderr",
     "output_type": "stream",
     "text": [
      "\n",
      "\n",
      "\n",
      "Error: -0.0013:  15%|██████████                                                         | 6/40 [01:03<06:05, 10.75s/it]\n",
      "\n",
      "\n",
      "Error: -0.0012:  15%|██████████                                                         | 6/40 [01:18<06:05, 10.75s/it]"
     ]
    },
    {
     "name": "stdout",
     "output_type": "stream",
     "text": [
      "Training acc at epoch: 6\n",
      "91.38 %\n",
      "Pred acc at epoch: 6\n",
      "91.66 %\n"
     ]
    },
    {
     "name": "stderr",
     "output_type": "stream",
     "text": [
      "\n",
      "\n",
      "\n",
      "Error: -0.0012:  18%|███████████▋                                                       | 7/40 [01:19<06:49, 12.40s/it]\n",
      "\n",
      "\n",
      "Error: -0.0010:  18%|███████████▋                                                       | 7/40 [01:33<06:49, 12.40s/it]"
     ]
    },
    {
     "name": "stdout",
     "output_type": "stream",
     "text": [
      "Training acc at epoch: 7\n",
      "91.78 %\n",
      "Pred acc at epoch: 7\n",
      "92.0 %\n"
     ]
    },
    {
     "name": "stderr",
     "output_type": "stream",
     "text": [
      "\n",
      "\n",
      "\n",
      "Error: -0.0010:  20%|█████████████▍                                                     | 8/40 [01:34<07:05, 13.31s/it]\n",
      "\n",
      "\n",
      "Error: -0.0010:  20%|█████████████▍                                                     | 8/40 [01:47<07:05, 13.31s/it]"
     ]
    },
    {
     "name": "stdout",
     "output_type": "stream",
     "text": [
      "Training acc at epoch: 8\n",
      "92.03 %\n",
      "Pred acc at epoch: 8\n",
      "92.22 %\n"
     ]
    },
    {
     "name": "stderr",
     "output_type": "stream",
     "text": [
      "\n",
      "\n",
      "\n",
      "Error: -0.0010:  22%|███████████████                                                    | 9/40 [01:48<06:54, 13.36s/it]\n",
      "\n",
      "\n",
      "Error: -0.0009:  22%|███████████████                                                    | 9/40 [01:57<06:54, 13.36s/it]"
     ]
    },
    {
     "name": "stdout",
     "output_type": "stream",
     "text": [
      "Training acc at epoch: 9\n",
      "92.17999999999999 %\n",
      "Pred acc at epoch: 9\n",
      "92.53 %\n"
     ]
    },
    {
     "name": "stderr",
     "output_type": "stream",
     "text": [
      "\n",
      "\n",
      "\n",
      "Error: -0.0009:  25%|████████████████▌                                                 | 10/40 [01:58<06:14, 12.48s/it]\n",
      "\n",
      "\n",
      "Error: -0.0008:  25%|████████████████▌                                                 | 10/40 [02:10<06:14, 12.48s/it]"
     ]
    },
    {
     "name": "stdout",
     "output_type": "stream",
     "text": [
      "Training acc at epoch: 10\n",
      "92.35 %\n",
      "Pred acc at epoch: 10\n",
      "92.78 %\n"
     ]
    },
    {
     "name": "stderr",
     "output_type": "stream",
     "text": [
      "\n",
      "\n",
      "\n",
      "Error: -0.0008:  28%|██████████████████▏                                               | 11/40 [02:11<06:03, 12.55s/it]\n",
      "\n",
      "\n",
      "Error: -0.0008:  28%|██████████████████▏                                               | 11/40 [02:31<06:03, 12.55s/it]"
     ]
    },
    {
     "name": "stdout",
     "output_type": "stream",
     "text": [
      "Training acc at epoch: 11\n",
      "92.64 %\n",
      "Pred acc at epoch: 11\n",
      "93.0 %\n"
     ]
    },
    {
     "name": "stderr",
     "output_type": "stream",
     "text": [
      "\n",
      "\n",
      "\n",
      "Error: -0.0008:  30%|███████████████████▊                                              | 12/40 [02:32<07:06, 15.25s/it]\n",
      "\n",
      "\n",
      "Error: -0.0007:  30%|███████████████████▊                                              | 12/40 [02:51<07:06, 15.25s/it]"
     ]
    },
    {
     "name": "stdout",
     "output_type": "stream",
     "text": [
      "Training acc at epoch: 12\n",
      "92.9 %\n",
      "Pred acc at epoch: 12\n",
      "93.24 %\n"
     ]
    },
    {
     "name": "stderr",
     "output_type": "stream",
     "text": [
      "\n",
      "\n",
      "\n",
      "Error: -0.0007:  32%|█████████████████████▍                                            | 13/40 [02:52<07:29, 16.63s/it]\n",
      "\n",
      "\n",
      "Error: -0.0007:  32%|█████████████████████▍                                            | 13/40 [03:07<07:29, 16.63s/it]"
     ]
    },
    {
     "name": "stdout",
     "output_type": "stream",
     "text": [
      "Training acc at epoch: 13\n",
      "93.06 %\n",
      "Pred acc at epoch: 13\n",
      "93.35 %\n"
     ]
    },
    {
     "name": "stderr",
     "output_type": "stream",
     "text": [
      "\n",
      "\n",
      "\n",
      "Error: -0.0007:  35%|███████████████████████                                           | 14/40 [03:08<07:05, 16.35s/it]\n",
      "\n",
      "\n",
      "Error: -0.0007:  35%|███████████████████████                                           | 14/40 [03:20<07:05, 16.35s/it]"
     ]
    },
    {
     "name": "stdout",
     "output_type": "stream",
     "text": [
      "Training acc at epoch: 14\n",
      "93.26 %\n",
      "Pred acc at epoch: 14\n",
      "93.5 %\n"
     ]
    },
    {
     "name": "stderr",
     "output_type": "stream",
     "text": [
      "\n",
      "\n",
      "\n",
      "Error: -0.0007:  38%|████████████████████████▊                                         | 15/40 [03:21<06:22, 15.31s/it]\n",
      "\n",
      "\n",
      "Error: -0.0007:  38%|████████████████████████▊                                         | 15/40 [03:35<06:22, 15.31s/it]"
     ]
    },
    {
     "name": "stdout",
     "output_type": "stream",
     "text": [
      "Training acc at epoch: 15\n",
      "93.41000000000001 %\n",
      "Pred acc at epoch: 15\n",
      "93.67 %\n"
     ]
    },
    {
     "name": "stderr",
     "output_type": "stream",
     "text": [
      "\n",
      "\n",
      "\n",
      "Error: -0.0007:  40%|██████████████████████████▍                                       | 16/40 [03:36<06:05, 15.21s/it]\n",
      "\n",
      "\n",
      "Error: -0.0006:  40%|██████████████████████████▍                                       | 16/40 [03:51<06:05, 15.21s/it]"
     ]
    },
    {
     "name": "stdout",
     "output_type": "stream",
     "text": [
      "Training acc at epoch: 16\n",
      "93.63 %\n",
      "Pred acc at epoch: 16\n",
      "93.84 %\n"
     ]
    },
    {
     "name": "stderr",
     "output_type": "stream",
     "text": [
      "\n",
      "\n",
      "\n",
      "Error: -0.0006:  42%|████████████████████████████                                      | 17/40 [03:52<05:55, 15.47s/it]\n",
      "\n",
      "\n",
      "Error: -0.0006:  42%|████████████████████████████                                      | 17/40 [04:05<05:55, 15.47s/it]"
     ]
    },
    {
     "name": "stdout",
     "output_type": "stream",
     "text": [
      "Training acc at epoch: 17\n",
      "93.78 %\n",
      "Pred acc at epoch: 17\n",
      "93.92 %\n"
     ]
    },
    {
     "name": "stderr",
     "output_type": "stream",
     "text": [
      "\n",
      "\n",
      "\n",
      "Error: -0.0006:  45%|█████████████████████████████▋                                    | 18/40 [04:06<05:30, 15.04s/it]\n",
      "\n",
      "\n",
      "Error: -0.0006:  45%|█████████████████████████████▋                                    | 18/40 [04:18<05:30, 15.04s/it]"
     ]
    },
    {
     "name": "stdout",
     "output_type": "stream",
     "text": [
      "Training acc at epoch: 18\n",
      "93.89 %\n",
      "Pred acc at epoch: 18\n",
      "94.01 %\n"
     ]
    },
    {
     "name": "stderr",
     "output_type": "stream",
     "text": [
      "\n",
      "\n",
      "\n",
      "Error: -0.0006:  48%|███████████████████████████████▎                                  | 19/40 [04:18<04:58, 14.21s/it]\n",
      "\n",
      "\n",
      "Error: -0.0006:  48%|███████████████████████████████▎                                  | 19/40 [04:32<04:58, 14.21s/it]"
     ]
    },
    {
     "name": "stdout",
     "output_type": "stream",
     "text": [
      "Training acc at epoch: 19\n",
      "94.02000000000001 %\n",
      "Pred acc at epoch: 19\n",
      "94.08999999999999 %\n"
     ]
    },
    {
     "name": "stderr",
     "output_type": "stream",
     "text": [
      "\n",
      "\n",
      "\n",
      "Error: -0.0006:  50%|█████████████████████████████████                                 | 20/40 [04:33<04:48, 14.44s/it]\n",
      "\n",
      "\n",
      "Error: -0.0006:  50%|█████████████████████████████████                                 | 20/40 [04:51<04:48, 14.44s/it]"
     ]
    },
    {
     "name": "stdout",
     "output_type": "stream",
     "text": [
      "Training acc at epoch: 20\n",
      "94.17 %\n",
      "Pred acc at epoch: 20\n",
      "94.23 %\n"
     ]
    },
    {
     "name": "stderr",
     "output_type": "stream",
     "text": [
      "\n",
      "\n",
      "\n",
      "Error: -0.0006:  52%|██████████████████████████████████▋                               | 21/40 [04:52<04:57, 15.64s/it]\n",
      "\n",
      "\n",
      "Error: -0.0006:  52%|██████████████████████████████████▋                               | 21/40 [05:04<04:57, 15.64s/it]"
     ]
    },
    {
     "name": "stdout",
     "output_type": "stream",
     "text": [
      "Training acc at epoch: 21\n",
      "94.27 %\n",
      "Pred acc at epoch: 21\n",
      "94.31 %\n"
     ]
    },
    {
     "name": "stderr",
     "output_type": "stream",
     "text": [
      "\n",
      "\n",
      "\n",
      "Error: -0.0006:  55%|████████████████████████████████████▎                             | 22/40 [05:04<04:25, 14.75s/it]\n",
      "\n",
      "\n",
      "Error: -0.0006:  55%|████████████████████████████████████▎                             | 22/40 [05:20<04:25, 14.75s/it]"
     ]
    },
    {
     "name": "stdout",
     "output_type": "stream",
     "text": [
      "Training acc at epoch: 22\n",
      "94.48 %\n",
      "Pred acc at epoch: 22\n",
      "94.39 %\n"
     ]
    },
    {
     "name": "stderr",
     "output_type": "stream",
     "text": [
      "\n",
      "\n",
      "\n",
      "Error: -0.0006:  57%|█████████████████████████████████████▉                            | 23/40 [05:21<04:19, 15.28s/it]\n",
      "\n",
      "\n",
      "Error: -0.0006:  57%|█████████████████████████████████████▉                            | 23/40 [05:31<04:19, 15.28s/it]"
     ]
    },
    {
     "name": "stdout",
     "output_type": "stream",
     "text": [
      "Training acc at epoch: 23\n",
      "94.57 %\n",
      "Pred acc at epoch: 23\n",
      "94.5 %\n"
     ]
    },
    {
     "name": "stderr",
     "output_type": "stream",
     "text": [
      "\n",
      "\n",
      "\n",
      "Error: -0.0006:  60%|███████████████████████████████████████▌                          | 24/40 [05:32<03:45, 14.09s/it]\n",
      "\n",
      "\n",
      "Error: -0.0005:  60%|███████████████████████████████████████▌                          | 24/40 [05:45<03:45, 14.09s/it]"
     ]
    },
    {
     "name": "stdout",
     "output_type": "stream",
     "text": [
      "Training acc at epoch: 24\n",
      "94.64 %\n",
      "Pred acc at epoch: 24\n",
      "94.57 %\n"
     ]
    },
    {
     "name": "stderr",
     "output_type": "stream",
     "text": [
      "\n",
      "\n",
      "\n",
      "Error: -0.0005:  62%|█████████████████████████████████████████▎                        | 25/40 [05:47<03:34, 14.30s/it]\n",
      "\n",
      "\n",
      "Error: -0.0005:  62%|█████████████████████████████████████████▎                        | 25/40 [06:00<03:34, 14.30s/it]"
     ]
    },
    {
     "name": "stdout",
     "output_type": "stream",
     "text": [
      "Training acc at epoch: 25\n",
      "94.77 %\n",
      "Pred acc at epoch: 25\n",
      "94.64 %\n"
     ]
    },
    {
     "name": "stderr",
     "output_type": "stream",
     "text": [
      "\n",
      "\n",
      "\n",
      "Error: -0.0005:  65%|██████████████████████████████████████████▉                       | 26/40 [06:00<03:16, 14.03s/it]\n",
      "\n",
      "\n",
      "Error: -0.0005:  65%|██████████████████████████████████████████▉                       | 26/40 [06:14<03:16, 14.03s/it]"
     ]
    },
    {
     "name": "stdout",
     "output_type": "stream",
     "text": [
      "Training acc at epoch: 26\n",
      "94.84 %\n",
      "Pred acc at epoch: 26\n",
      "94.72 %\n"
     ]
    },
    {
     "name": "stderr",
     "output_type": "stream",
     "text": [
      "\n",
      "\n",
      "\n",
      "Error: -0.0005:  68%|████████████████████████████████████████████▌                     | 27/40 [06:15<03:03, 14.14s/it]\n",
      "\n",
      "\n",
      "Error: -0.0005:  68%|████████████████████████████████████████████▌                     | 27/40 [06:27<03:03, 14.14s/it]"
     ]
    },
    {
     "name": "stdout",
     "output_type": "stream",
     "text": [
      "Training acc at epoch: 27\n",
      "95.0 %\n",
      "Pred acc at epoch: 27\n",
      "94.74000000000001 %\n"
     ]
    },
    {
     "name": "stderr",
     "output_type": "stream",
     "text": [
      "\n",
      "\n",
      "\n",
      "Error: -0.0005:  70%|██████████████████████████████████████████████▏                   | 28/40 [06:27<02:44, 13.73s/it]\n",
      "\n",
      "\n",
      "Error: -0.0005:  70%|██████████████████████████████████████████████▏                   | 28/40 [06:37<02:44, 13.73s/it]"
     ]
    },
    {
     "name": "stdout",
     "output_type": "stream",
     "text": [
      "Training acc at epoch: 28\n",
      "95.14 %\n",
      "Pred acc at epoch: 28\n",
      "94.8 %\n"
     ]
    },
    {
     "name": "stderr",
     "output_type": "stream",
     "text": [
      "\n",
      "\n",
      "\n",
      "Error: -0.0005:  72%|███████████████████████████████████████████████▊                  | 29/40 [06:38<02:20, 12.80s/it]\n",
      "\n",
      "\n",
      "Error: -0.0005:  72%|███████████████████████████████████████████████▊                  | 29/40 [06:49<02:20, 12.80s/it]"
     ]
    },
    {
     "name": "stdout",
     "output_type": "stream",
     "text": [
      "Training acc at epoch: 29\n",
      "95.21 %\n",
      "Pred acc at epoch: 29\n",
      "94.85 %\n"
     ]
    },
    {
     "name": "stderr",
     "output_type": "stream",
     "text": [
      "\n",
      "\n",
      "\n",
      "Error: -0.0005:  75%|█████████████████████████████████████████████████▌                | 30/40 [06:49<02:03, 12.33s/it]\n",
      "\n",
      "\n",
      "Error: -0.0005:  75%|█████████████████████████████████████████████████▌                | 30/40 [07:01<02:03, 12.33s/it]"
     ]
    },
    {
     "name": "stdout",
     "output_type": "stream",
     "text": [
      "Training acc at epoch: 30\n",
      "95.26 %\n",
      "Pred acc at epoch: 30\n",
      "94.98 %\n"
     ]
    },
    {
     "name": "stderr",
     "output_type": "stream",
     "text": [
      "\n",
      "\n",
      "\n",
      "Error: -0.0005:  78%|███████████████████████████████████████████████████▏              | 31/40 [07:02<01:51, 12.34s/it]\n",
      "\n",
      "\n",
      "Error: -0.0005:  78%|███████████████████████████████████████████████████▏              | 31/40 [07:11<01:51, 12.34s/it]"
     ]
    },
    {
     "name": "stdout",
     "output_type": "stream",
     "text": [
      "Training acc at epoch: 31\n",
      "95.33 %\n",
      "Pred acc at epoch: 31\n",
      "95.03 %\n"
     ]
    },
    {
     "name": "stderr",
     "output_type": "stream",
     "text": [
      "\n",
      "\n",
      "\n",
      "Error: -0.0005:  80%|████████████████████████████████████████████████████▊             | 32/40 [07:12<01:33, 11.69s/it]\n",
      "\n",
      "\n",
      "Error: -0.0005:  80%|████████████████████████████████████████████████████▊             | 32/40 [07:24<01:33, 11.69s/it]"
     ]
    },
    {
     "name": "stdout",
     "output_type": "stream",
     "text": [
      "Training acc at epoch: 32\n",
      "95.39999999999999 %\n",
      "Pred acc at epoch: 32\n",
      "95.1 %\n"
     ]
    },
    {
     "name": "stderr",
     "output_type": "stream",
     "text": [
      "\n",
      "\n",
      "\n",
      "Error: -0.0005:  82%|██████████████████████████████████████████████████████▍           | 33/40 [07:25<01:24, 12.05s/it]\n",
      "\n",
      "\n",
      "Error: -0.0005:  82%|██████████████████████████████████████████████████████▍           | 33/40 [07:35<01:24, 12.05s/it]"
     ]
    },
    {
     "name": "stdout",
     "output_type": "stream",
     "text": [
      "Training acc at epoch: 33\n",
      "95.44 %\n",
      "Pred acc at epoch: 33\n",
      "95.16 %\n"
     ]
    },
    {
     "name": "stderr",
     "output_type": "stream",
     "text": [
      "\n",
      "\n",
      "\n",
      "Error: -0.0005:  85%|████████████████████████████████████████████████████████          | 34/40 [07:36<01:10, 11.71s/it]\n",
      "\n",
      "\n",
      "Error: -0.0005:  85%|████████████████████████████████████████████████████████          | 34/40 [07:47<01:10, 11.71s/it]"
     ]
    },
    {
     "name": "stdout",
     "output_type": "stream",
     "text": [
      "Training acc at epoch: 34\n",
      "95.52000000000001 %\n",
      "Pred acc at epoch: 34\n",
      "95.19999999999999 %\n"
     ]
    },
    {
     "name": "stderr",
     "output_type": "stream",
     "text": [
      "\n",
      "\n",
      "\n",
      "Error: -0.0005:  88%|█████████████████████████████████████████████████████████▊        | 35/40 [07:47<00:58, 11.67s/it]\n",
      "\n",
      "\n",
      "Error: -0.0005:  88%|█████████████████████████████████████████████████████████▊        | 35/40 [07:59<00:58, 11.67s/it]"
     ]
    },
    {
     "name": "stdout",
     "output_type": "stream",
     "text": [
      "Training acc at epoch: 35\n",
      "95.63000000000001 %\n",
      "Pred acc at epoch: 35\n",
      "95.27 %\n"
     ]
    },
    {
     "name": "stderr",
     "output_type": "stream",
     "text": [
      "\n",
      "\n",
      "\n",
      "Error: -0.0005:  90%|███████████████████████████████████████████████████████████▍      | 36/40 [08:00<00:47, 11.95s/it]\n",
      "\n",
      "\n",
      "Error: -0.0005:  90%|███████████████████████████████████████████████████████████▍      | 36/40 [08:12<00:47, 11.95s/it]"
     ]
    },
    {
     "name": "stdout",
     "output_type": "stream",
     "text": [
      "Training acc at epoch: 36\n",
      "95.7 %\n",
      "Pred acc at epoch: 36\n",
      "95.28999999999999 %\n"
     ]
    },
    {
     "name": "stderr",
     "output_type": "stream",
     "text": [
      "\n",
      "\n",
      "\n",
      "Error: -0.0005:  92%|█████████████████████████████████████████████████████████████     | 37/40 [08:12<00:36, 12.10s/it]\n",
      "\n",
      "\n",
      "Error: -0.0005:  92%|█████████████████████████████████████████████████████████████     | 37/40 [08:26<00:36, 12.10s/it]"
     ]
    },
    {
     "name": "stdout",
     "output_type": "stream",
     "text": [
      "Training acc at epoch: 37\n",
      "95.75 %\n",
      "Pred acc at epoch: 37\n",
      "95.33 %\n"
     ]
    },
    {
     "name": "stderr",
     "output_type": "stream",
     "text": [
      "\n",
      "\n",
      "\n",
      "Error: -0.0005:  95%|██████████████████████████████████████████████████████████████▋   | 38/40 [08:26<00:25, 12.72s/it]\n",
      "\n",
      "\n",
      "Error: -0.0005:  95%|██████████████████████████████████████████████████████████████▋   | 38/40 [08:38<00:25, 12.72s/it]"
     ]
    },
    {
     "name": "stdout",
     "output_type": "stream",
     "text": [
      "Training acc at epoch: 38\n",
      "95.78999999999999 %\n",
      "Pred acc at epoch: 38\n",
      "95.36 %\n"
     ]
    },
    {
     "name": "stderr",
     "output_type": "stream",
     "text": [
      "\n",
      "\n",
      "\n",
      "Error: -0.0005:  98%|████████████████████████████████████████████████████████████████▎ | 39/40 [08:39<00:12, 12.75s/it]\n",
      "\n",
      "\n",
      "Error: -0.0005:  98%|████████████████████████████████████████████████████████████████▎ | 39/40 [08:50<00:12, 12.75s/it]"
     ]
    },
    {
     "name": "stdout",
     "output_type": "stream",
     "text": [
      "Training acc at epoch: 39\n",
      "95.88 %\n",
      "Pred acc at epoch: 39\n",
      "95.39999999999999 %\n"
     ]
    },
    {
     "name": "stderr",
     "output_type": "stream",
     "text": [
      "\n",
      "\n",
      "\n",
      "Error: -0.0005: 100%|██████████████████████████████████████████████████████████████████| 40/40 [08:51<00:00, 12.46s/it]"
     ]
    },
    {
     "name": "stdout",
     "output_type": "stream",
     "text": [
      "Final accuracy of test data\n",
      "95.39999999999999 %\n"
     ]
    }
   ],
   "source": [
    "#driver func\n",
    "trainerr = []\n",
    "prederr = []\n",
    "mnt = mnistq(128)\n",
    "#Training\n",
    "mnt.train(xtrain,ytrain,xtest, yt,4)\n",
    "print(\"Final accuracy of test data\")\n",
    "prediction = mnt.test(xtest, yt)"
   ]
  },
  {
   "cell_type": "code",
   "execution_count": 115,
   "metadata": {},
   "outputs": [
    {
     "data": {
      "image/png": "[encoded data removed]",
      "text/plain": [
       "<Figure size 432x288 with 1 Axes>"
      ]
     },
     "metadata": {},
     "output_type": "display_data"
    }
   ],
   "source": [
    "plt.plot(trainerr)\n",
    "plt.plot(prederr)\n",
    "plt.ylabel('Training/testing error % vs epochs')\n",
    "plt.show()\n",
    "#Training = Blus line, Testing = brown line"
   ]
  },
  {
   "cell_type": "markdown",
   "metadata": {},
   "source": [
    "Learning alpha = 0.01, beta-momentum = 0.3, hidden units = 128, batch size = 4 , epochs =40"
   ]
  },
  {
   "cell_type": "code",
   "execution_count": null,
   "metadata": {},
   "outputs": [],
   "source": []
  }
 ],
 "metadata": {
  "kernelspec": {
   "display_name": "Python 3",
   "language": "python",
   "name": "python3"
  },
  "language_info": {
   "codemirror_mode": {
    "name": "ipython",
    "version": 3
   },
   "file_extension": ".py",
   "mimetype": "text/x-python",
   "name": "python",
   "nbconvert_exporter": "python",
   "pygments_lexer": "ipython3",
   "version": "3.6.5"
  }
 },
 "nbformat": 4,
 "nbformat_minor": 2
}
